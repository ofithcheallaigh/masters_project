{
 "cells": [
  {
   "attachments": {},
   "cell_type": "markdown",
   "metadata": {},
   "source": [
    "# Introduction\n",
    "This notebook will be an initial look at the data that was recently gathered. "
   ]
  },
  {
   "cell_type": "code",
   "execution_count": 28,
   "metadata": {},
   "outputs": [],
   "source": [
    "import os\n",
    "import glob\n",
    "import pandas as pd"
   ]
  },
  {
   "cell_type": "code",
   "execution_count": 25,
   "metadata": {},
   "outputs": [],
   "source": [
    "filepath = 'D:/Courses/UUJ/Research Project/masters_project/Data Collection/RawDataCollection/Closed Door'\n",
    "\n",
    "# Change the working dir\n",
    "os.chdir(filepath)\n",
    "\n",
    "# list the contents\n",
    "dir_contents = os.listdir()\n",
    "# dir_contents"
   ]
  },
  {
   "attachments": {},
   "cell_type": "markdown",
   "metadata": {},
   "source": [
    "I have manually gone into this folder - this will need to be automated"
   ]
  },
  {
   "cell_type": "code",
   "execution_count": 27,
   "metadata": {},
   "outputs": [
    {
     "data": {
      "text/plain": [
       "'grid1_door_closed.csv'"
      ]
     },
     "execution_count": 27,
     "metadata": {},
     "output_type": "execute_result"
    }
   ],
   "source": [
    "# I only want the .csv files\n",
    "ext = '*.csv'\n",
    "files = glob.glob(ext)\n",
    "files[0]"
   ]
  },
  {
   "cell_type": "code",
   "execution_count": 33,
   "metadata": {},
   "outputs": [
    {
     "data": {
      "text/html": [
       "<div>\n",
       "<style scoped>\n",
       "    .dataframe tbody tr th:only-of-type {\n",
       "        vertical-align: middle;\n",
       "    }\n",
       "\n",
       "    .dataframe tbody tr th {\n",
       "        vertical-align: top;\n",
       "    }\n",
       "\n",
       "    .dataframe thead th {\n",
       "        text-align: right;\n",
       "    }\n",
       "</style>\n",
       "<table border=\"1\" class=\"dataframe\">\n",
       "  <thead>\n",
       "    <tr style=\"text-align: right;\">\n",
       "      <th></th>\n",
       "      <th>[2023-01-01 15:20:48.842] Ultrasonic Sensor Data Capture Start</th>\n",
       "      <th>Unnamed: 1</th>\n",
       "    </tr>\n",
       "  </thead>\n",
       "  <tbody>\n",
       "    <tr>\n",
       "      <th>0</th>\n",
       "      <td>[2023-01-01 15:20:48.845] Obstacle: closed door</td>\n",
       "      <td>NaN</td>\n",
       "    </tr>\n",
       "    <tr>\n",
       "      <th>1</th>\n",
       "      <td>[2023-01-01 15:20:48.845] Grid place: 1 (Steady)</td>\n",
       "      <td>NaN</td>\n",
       "    </tr>\n",
       "    <tr>\n",
       "      <th>2</th>\n",
       "      <td>[2023-01-01 15:21:06.596] Ch1:</td>\n",
       "      <td>NaN</td>\n",
       "    </tr>\n",
       "    <tr>\n",
       "      <th>3</th>\n",
       "      <td>[2023-01-01 15:21:06.609] 604</td>\n",
       "      <td>NaN</td>\n",
       "    </tr>\n",
       "    <tr>\n",
       "      <th>4</th>\n",
       "      <td>[2023-01-01 15:21:06.610] 605</td>\n",
       "      <td>NaN</td>\n",
       "    </tr>\n",
       "    <tr>\n",
       "      <th>5</th>\n",
       "      <td>[2023-01-01 15:21:06.618] 605</td>\n",
       "      <td>NaN</td>\n",
       "    </tr>\n",
       "    <tr>\n",
       "      <th>6</th>\n",
       "      <td>[2023-01-01 15:21:06.622] 605</td>\n",
       "      <td>NaN</td>\n",
       "    </tr>\n",
       "    <tr>\n",
       "      <th>7</th>\n",
       "      <td>[2023-01-01 15:21:06.630] 597</td>\n",
       "      <td>NaN</td>\n",
       "    </tr>\n",
       "    <tr>\n",
       "      <th>8</th>\n",
       "      <td>[2023-01-01 15:21:06.634] 597</td>\n",
       "      <td>NaN</td>\n",
       "    </tr>\n",
       "    <tr>\n",
       "      <th>9</th>\n",
       "      <td>[2023-01-01 15:21:06.642] 597</td>\n",
       "      <td>NaN</td>\n",
       "    </tr>\n",
       "  </tbody>\n",
       "</table>\n",
       "</div>"
      ],
      "text/plain": [
       "  [2023-01-01 15:20:48.842] Ultrasonic Sensor Data Capture Start  Unnamed: 1\n",
       "0    [2023-01-01 15:20:48.845] Obstacle: closed door                     NaN\n",
       "1   [2023-01-01 15:20:48.845] Grid place: 1 (Steady)                     NaN\n",
       "2                    [2023-01-01 15:21:06.596] Ch1:                      NaN\n",
       "3                      [2023-01-01 15:21:06.609] 604                     NaN\n",
       "4                      [2023-01-01 15:21:06.610] 605                     NaN\n",
       "5                      [2023-01-01 15:21:06.618] 605                     NaN\n",
       "6                      [2023-01-01 15:21:06.622] 605                     NaN\n",
       "7                      [2023-01-01 15:21:06.630] 597                     NaN\n",
       "8                      [2023-01-01 15:21:06.634] 597                     NaN\n",
       "9                      [2023-01-01 15:21:06.642] 597                     NaN"
      ]
     },
     "execution_count": 33,
     "metadata": {},
     "output_type": "execute_result"
    }
   ],
   "source": [
    "grid1_df = pd.read_csv(files[0])\n",
    "grid1_df.head(10)"
   ]
  },
  {
   "cell_type": "code",
   "execution_count": 38,
   "metadata": {},
   "outputs": [],
   "source": [
    "# I just want the first column\n",
    "col_names = grid1_df.columns\n",
    "col_names[0]\n",
    "data = grid1_df[col_names[0]]"
   ]
  },
  {
   "cell_type": "code",
   "execution_count": 39,
   "metadata": {},
   "outputs": [
    {
     "data": {
      "text/plain": [
       "0          [2023-01-01 15:20:48.845] Obstacle: closed door\n",
       "1         [2023-01-01 15:20:48.845] Grid place: 1 (Steady)\n",
       "2                          [2023-01-01 15:21:06.596] Ch1: \n",
       "3                            [2023-01-01 15:21:06.609] 604\n",
       "4                            [2023-01-01 15:21:06.610] 605\n",
       "                                ...                       \n",
       "243851                       [2023-01-01 15:51:31.287] 605\n",
       "243852                       [2023-01-01 15:51:31.295] 611\n",
       "243853                       [2023-01-01 15:51:31.299] 611\n",
       "243854                       [2023-01-01 15:51:31.307] 611\n",
       "243855                       [2023-01-01 15:51:31.311] 610\n",
       "Name: [2023-01-01 15:20:48.842] Ultrasonic Sensor Data Capture Start, Length: 243856, dtype: object"
      ]
     },
     "execution_count": 39,
     "metadata": {},
     "output_type": "execute_result"
    }
   ],
   "source": [
    "data"
   ]
  },
  {
   "attachments": {},
   "cell_type": "markdown",
   "metadata": {},
   "source": [
    "We can see above that there is a column with a lot of `NaN` values. I want to check is this is all this column contains. I have a feeling there is something else in that column. Actually, looking at it below, we can see the `dtype: float64` "
   ]
  },
  {
   "cell_type": "code",
   "execution_count": 43,
   "metadata": {},
   "outputs": [
    {
     "data": {
      "text/plain": [
       "0        NaN\n",
       "1        NaN\n",
       "2        NaN\n",
       "3        NaN\n",
       "4        NaN\n",
       "          ..\n",
       "243851   NaN\n",
       "243852   NaN\n",
       "243853   NaN\n",
       "243854   NaN\n",
       "243855   NaN\n",
       "Name: Unnamed: 1, Length: 243856, dtype: float64"
      ]
     },
     "execution_count": 43,
     "metadata": {},
     "output_type": "execute_result"
    }
   ],
   "source": [
    "grid1_df[col_names[1]]"
   ]
  },
  {
   "cell_type": "code",
   "execution_count": 52,
   "metadata": {},
   "outputs": [],
   "source": [
    "nan_column = grid1_df[col_names[1]]\n",
    "# type(nan_column)\n",
    "nan_filtered = nan_column.isnull()"
   ]
  },
  {
   "cell_type": "code",
   "execution_count": 55,
   "metadata": {},
   "outputs": [
    {
     "data": {
      "text/plain": [
       "[]"
      ]
     },
     "execution_count": 55,
     "metadata": {},
     "output_type": "execute_result"
    }
   ],
   "source": [
    "nan_filtered\n",
    "res = [i for i, val in enumerate(nan_filtered) if not val]\n",
    "res"
   ]
  },
  {
   "attachments": {},
   "cell_type": "markdown",
   "metadata": {},
   "source": [
    "Okay, so, there is nothing in that column, so we can forget it now. We will focus on the `data` dataframe."
   ]
  },
  {
   "cell_type": "code",
   "execution_count": 58,
   "metadata": {},
   "outputs": [
    {
     "data": {
      "text/plain": [
       "count                            243856\n",
       "unique                           243713\n",
       "top       [2023-01-01 15:50:45.920] 604\n",
       "freq                                  3\n",
       "Name: [2023-01-01 15:20:48.842] Ultrasonic Sensor Data Capture Start, dtype: object"
      ]
     },
     "execution_count": 58,
     "metadata": {},
     "output_type": "execute_result"
    }
   ],
   "source": [
    "data.describe()"
   ]
  },
  {
   "attachments": {},
   "cell_type": "markdown",
   "metadata": {},
   "source": [
    "Now I want to try and get the row indexs that contain the start and stop terms"
   ]
  },
  {
   "cell_type": "code",
   "execution_count": 85,
   "metadata": {},
   "outputs": [
    {
     "name": "stdout",
     "output_type": "stream",
     "text": [
      "Channel 1 start indexes are: [2, 200012]\n",
      "Channel 2 start indexes are: [100007]\n"
     ]
    }
   ],
   "source": [
    "# data.str.contains(\"start\")\n",
    "ch1_start_idx = [i for i,x in enumerate(data.str.contains(\"Ch1:\")) if x]\n",
    "ch2_start_idx = [i for i,x in enumerate(data.str.contains(\"Ch2:\")) if x]\n",
    "print(\"Channel 1 start indexes are:\", ch1_start_idx)\n",
    "print(\"Channel 2 start indexes are:\", ch2_start_idx)"
   ]
  },
  {
   "attachments": {},
   "cell_type": "markdown",
   "metadata": {},
   "source": [
    "Now, I will want to get the ending indexes."
   ]
  },
  {
   "cell_type": "code",
   "execution_count": 84,
   "metadata": {},
   "outputs": [
    {
     "name": "stdout",
     "output_type": "stream",
     "text": [
      "Channel 1 end indexes are: [100004]\n",
      "Channel 2 end indexes are: [200009]\n"
     ]
    }
   ],
   "source": [
    "ch1_end_idx = [i for i,x in enumerate(data.str.contains(\"Ch1 End\")) if x]\n",
    "ch2_end_idx = [i for i,x in enumerate(data.str.contains(\"Ch2 End\")) if x]\n",
    "print(\"Channel 1 end indexes are:\", ch1_end_idx)\n",
    "print(\"Channel 2 end indexes are:\", ch2_end_idx)"
   ]
  },
  {
   "attachments": {},
   "cell_type": "markdown",
   "metadata": {},
   "source": [
    "Now, I want to get the times."
   ]
  },
  {
   "cell_type": "code",
   "execution_count": 86,
   "metadata": {},
   "outputs": [
    {
     "name": "stdout",
     "output_type": "stream",
     "text": [
      "Channel 1 time indexes is: [100005]\n",
      "Channel 2 time indexes is: [200010]\n"
     ]
    }
   ],
   "source": [
    "ch1_time_idx = [i for i,x in enumerate(data.str.contains(\"Channel 1 time\")) if x]\n",
    "ch2_time_idx = [i for i,x in enumerate(data.str.contains(\"Channel 2 time\")) if x]\n",
    "print(\"Channel 1 time indexes is:\", ch1_time_idx)\n",
    "print(\"Channel 2 time indexes is:\", ch2_time_idx)"
   ]
  },
  {
   "attachments": {},
   "cell_type": "markdown",
   "metadata": {},
   "source": [
    "Now I need to slice up my data to remove the timestamp and turn the string formatted number into an int"
   ]
  },
  {
   "cell_type": "code",
   "execution_count": 103,
   "metadata": {},
   "outputs": [],
   "source": [
    "str_numbers = data.str[-4:]\n",
    "ch1_str_nums = str_numbers.iloc[3:] # This is the actual distance numbers"
   ]
  }
 ],
 "metadata": {
  "kernelspec": {
   "display_name": "Python 3",
   "language": "python",
   "name": "python3"
  },
  "language_info": {
   "codemirror_mode": {
    "name": "ipython",
    "version": 3
   },
   "file_extension": ".py",
   "mimetype": "text/x-python",
   "name": "python",
   "nbconvert_exporter": "python",
   "pygments_lexer": "ipython3",
   "version": "3.10.8"
  },
  "orig_nbformat": 4,
  "vscode": {
   "interpreter": {
    "hash": "972f31df2f829f8f22ae559c9a74ed7932f6766b96fa316c77413751dedc7f05"
   }
  }
 },
 "nbformat": 4,
 "nbformat_minor": 2
}
