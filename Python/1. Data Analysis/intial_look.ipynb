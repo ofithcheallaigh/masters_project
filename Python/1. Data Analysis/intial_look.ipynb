{
 "cells": [
  {
   "attachments": {},
   "cell_type": "markdown",
   "metadata": {},
   "source": [
    "# Introduction\n",
    "This notebook will be an initial look at the data that was recently gathered. "
   ]
  },
  {
   "cell_type": "code",
   "execution_count": 36,
   "metadata": {},
   "outputs": [],
   "source": [
    "import os\n",
    "import glob\n",
    "import pandas as pd\n",
    "import numpy as np\n",
    "import matplotlib.pyplot as plt"
   ]
  },
  {
   "cell_type": "code",
   "execution_count": 37,
   "metadata": {},
   "outputs": [],
   "source": [
    "filepath = 'D:/Courses/UUJ/Research Project/masters_project/Data Collection/RawDataCollection/Large Narrow Bin Mid-Hallway'\n",
    "\n",
    "# Change the working dir\n",
    "os.chdir(filepath)\n",
    "\n",
    "# list the contents\n",
    "dir_contents = os.listdir()\n",
    "# dir_contents"
   ]
  },
  {
   "attachments": {},
   "cell_type": "markdown",
   "metadata": {},
   "source": [
    "I have manually gone into this folder - this will need to be automated"
   ]
  },
  {
   "cell_type": "code",
   "execution_count": 38,
   "metadata": {},
   "outputs": [
    {
     "data": {
      "text/plain": [
       "'grid1_large_bin_midhallway.csv'"
      ]
     },
     "execution_count": 38,
     "metadata": {},
     "output_type": "execute_result"
    }
   ],
   "source": [
    "# I only want the .csv files\n",
    "ext = '*.csv'\n",
    "files = glob.glob(ext)\n",
    "files[0]"
   ]
  },
  {
   "cell_type": "code",
   "execution_count": 60,
   "metadata": {},
   "outputs": [
    {
     "data": {
      "text/html": [
       "<div>\n",
       "<style scoped>\n",
       "    .dataframe tbody tr th:only-of-type {\n",
       "        vertical-align: middle;\n",
       "    }\n",
       "\n",
       "    .dataframe tbody tr th {\n",
       "        vertical-align: top;\n",
       "    }\n",
       "\n",
       "    .dataframe thead th {\n",
       "        text-align: right;\n",
       "    }\n",
       "</style>\n",
       "<table border=\"1\" class=\"dataframe\">\n",
       "  <thead>\n",
       "    <tr style=\"text-align: right;\">\n",
       "      <th></th>\n",
       "      <th>[2023-01-01 11:27:39.889] Ultrasonic Sensor Data Capture Start</th>\n",
       "      <th>Unnamed: 1</th>\n",
       "    </tr>\n",
       "  </thead>\n",
       "  <tbody>\n",
       "    <tr>\n",
       "      <th>[2023-01-01 11:27:39.892] Obstacle: large bin</th>\n",
       "      <td>mid-hallway</td>\n",
       "      <td>NaN</td>\n",
       "    </tr>\n",
       "    <tr>\n",
       "      <th>[2023-01-01 11:27:39.892] Grid place: 5 (Steady)</th>\n",
       "      <td>NaN</td>\n",
       "      <td>NaN</td>\n",
       "    </tr>\n",
       "    <tr>\n",
       "      <th>[2023-01-01 11:27:57.547] Ch1:</th>\n",
       "      <td>NaN</td>\n",
       "      <td>NaN</td>\n",
       "    </tr>\n",
       "    <tr>\n",
       "      <th>[2023-01-01 11:27:57.556] 2032</th>\n",
       "      <td>NaN</td>\n",
       "      <td>NaN</td>\n",
       "    </tr>\n",
       "    <tr>\n",
       "      <th>[2023-01-01 11:27:57.564] 2057</th>\n",
       "      <td>NaN</td>\n",
       "      <td>NaN</td>\n",
       "    </tr>\n",
       "    <tr>\n",
       "      <th>[2023-01-01 11:27:57.567] 2005</th>\n",
       "      <td>NaN</td>\n",
       "      <td>NaN</td>\n",
       "    </tr>\n",
       "    <tr>\n",
       "      <th>[2023-01-01 11:27:57.576] 2058</th>\n",
       "      <td>NaN</td>\n",
       "      <td>NaN</td>\n",
       "    </tr>\n",
       "    <tr>\n",
       "      <th>[2023-01-01 11:27:57.584] 2005</th>\n",
       "      <td>NaN</td>\n",
       "      <td>NaN</td>\n",
       "    </tr>\n",
       "    <tr>\n",
       "      <th>[2023-01-01 11:27:57.592] 2029</th>\n",
       "      <td>NaN</td>\n",
       "      <td>NaN</td>\n",
       "    </tr>\n",
       "    <tr>\n",
       "      <th>[2023-01-01 11:27:57.600] 2057</th>\n",
       "      <td>NaN</td>\n",
       "      <td>NaN</td>\n",
       "    </tr>\n",
       "  </tbody>\n",
       "</table>\n",
       "</div>"
      ],
      "text/plain": [
       "                                                 [2023-01-01 11:27:39.889] Ultrasonic Sensor Data Capture Start  \\\n",
       "[2023-01-01 11:27:39.892] Obstacle: large bin                                           mid-hallway               \n",
       "[2023-01-01 11:27:39.892] Grid place: 5 (Steady)                                                NaN               \n",
       "[2023-01-01 11:27:57.547] Ch1:                                                                  NaN               \n",
       "[2023-01-01 11:27:57.556] 2032                                                                  NaN               \n",
       "[2023-01-01 11:27:57.564] 2057                                                                  NaN               \n",
       "[2023-01-01 11:27:57.567] 2005                                                                  NaN               \n",
       "[2023-01-01 11:27:57.576] 2058                                                                  NaN               \n",
       "[2023-01-01 11:27:57.584] 2005                                                                  NaN               \n",
       "[2023-01-01 11:27:57.592] 2029                                                                  NaN               \n",
       "[2023-01-01 11:27:57.600] 2057                                                                  NaN               \n",
       "\n",
       "                                                  Unnamed: 1  \n",
       "[2023-01-01 11:27:39.892] Obstacle: large bin            NaN  \n",
       "[2023-01-01 11:27:39.892] Grid place: 5 (Steady)         NaN  \n",
       "[2023-01-01 11:27:57.547] Ch1:                           NaN  \n",
       "[2023-01-01 11:27:57.556] 2032                           NaN  \n",
       "[2023-01-01 11:27:57.564] 2057                           NaN  \n",
       "[2023-01-01 11:27:57.567] 2005                           NaN  \n",
       "[2023-01-01 11:27:57.576] 2058                           NaN  \n",
       "[2023-01-01 11:27:57.584] 2005                           NaN  \n",
       "[2023-01-01 11:27:57.592] 2029                           NaN  \n",
       "[2023-01-01 11:27:57.600] 2057                           NaN  "
      ]
     },
     "execution_count": 60,
     "metadata": {},
     "output_type": "execute_result"
    }
   ],
   "source": [
    "grid_df = pd.read_csv(files[4])\n",
    "grid_df.head(10)"
   ]
  },
  {
   "cell_type": "code",
   "execution_count": 40,
   "metadata": {},
   "outputs": [],
   "source": [
    "# I just want the first column\n",
    "col_names = grid_df.columns\n",
    "col_names[0]\n",
    "data = grid_df[col_names[0]]"
   ]
  },
  {
   "cell_type": "code",
   "execution_count": 41,
   "metadata": {},
   "outputs": [
    {
     "data": {
      "text/plain": [
       "0             [2023-01-01 10:54:25.807] Obstacle: large bin\n",
       "1          [2023-01-01 10:54:25.807] Grid place: 4 (Steady)\n",
       "2                           [2023-01-01 10:54:42.397] Ch1: \n",
       "3                            [2023-01-01 10:54:42.406] 4149\n",
       "4                            [2023-01-01 10:54:42.411] 4126\n",
       "                                ...                        \n",
       "200007                       [2023-01-01 11:19:00.487] 2552\n",
       "200008                       [2023-01-01 11:19:00.495] 2647\n",
       "200009              [2023-01-01 11:19:00.503] ~~~Ch2 End~~~\n",
       "200010    [2023-01-01 11:19:00.522] Channel 2 time: 7279...\n",
       "200011                           [2023-01-01 11:19:00.556] \n",
       "Name: [2023-01-01 10:54:25.805] Ultrasonic Sensor Data Capture Start, Length: 200012, dtype: object"
      ]
     },
     "execution_count": 41,
     "metadata": {},
     "output_type": "execute_result"
    }
   ],
   "source": [
    "data"
   ]
  },
  {
   "attachments": {},
   "cell_type": "markdown",
   "metadata": {},
   "source": [
    "We can see above that there is a column with a lot of `NaN` values. I want to check is this is all this column contains. I have a feeling there is something else in that column. Actually, looking at it below, we can see the `dtype: float64` "
   ]
  },
  {
   "cell_type": "code",
   "execution_count": 42,
   "metadata": {},
   "outputs": [
    {
     "data": {
      "text/plain": [
       "0          mid-hallway\n",
       "1                  NaN\n",
       "2                  NaN\n",
       "3                  NaN\n",
       "4                  NaN\n",
       "              ...     \n",
       "200007             NaN\n",
       "200008             NaN\n",
       "200009             NaN\n",
       "200010             NaN\n",
       "200011             NaN\n",
       "Name: Unnamed: 1, Length: 200012, dtype: object"
      ]
     },
     "execution_count": 42,
     "metadata": {},
     "output_type": "execute_result"
    }
   ],
   "source": [
    "grid_df[col_names[1]]"
   ]
  },
  {
   "cell_type": "code",
   "execution_count": 43,
   "metadata": {},
   "outputs": [],
   "source": [
    "nan_column = grid_df[col_names[1]]\n",
    "# type(nan_column)\n",
    "nan_filtered = nan_column.isnull()"
   ]
  },
  {
   "cell_type": "code",
   "execution_count": 44,
   "metadata": {},
   "outputs": [
    {
     "data": {
      "text/plain": [
       "[0]"
      ]
     },
     "execution_count": 44,
     "metadata": {},
     "output_type": "execute_result"
    }
   ],
   "source": [
    "nan_filtered\n",
    "res = [i for i, val in enumerate(nan_filtered) if not val]\n",
    "res"
   ]
  },
  {
   "attachments": {},
   "cell_type": "markdown",
   "metadata": {},
   "source": [
    "Okay, so, there is nothing in that column, so we can forget it now. We will focus on the `data` dataframe."
   ]
  },
  {
   "cell_type": "code",
   "execution_count": 45,
   "metadata": {},
   "outputs": [
    {
     "data": {
      "text/plain": [
       "count                             200012\n",
       "unique                            200001\n",
       "top       [2023-01-01 10:59:39.860] 4127\n",
       "freq                                   2\n",
       "Name: [2023-01-01 10:54:25.805] Ultrasonic Sensor Data Capture Start, dtype: object"
      ]
     },
     "execution_count": 45,
     "metadata": {},
     "output_type": "execute_result"
    }
   ],
   "source": [
    "data.describe()"
   ]
  },
  {
   "attachments": {},
   "cell_type": "markdown",
   "metadata": {},
   "source": [
    "Now I want to try and get the row indexs that contain the start and stop terms"
   ]
  },
  {
   "cell_type": "code",
   "execution_count": 46,
   "metadata": {},
   "outputs": [
    {
     "name": "stdout",
     "output_type": "stream",
     "text": [
      "Channel 1 start indexes are: [2]\n",
      "Channel 2 start indexes are: [100007]\n"
     ]
    }
   ],
   "source": [
    "# data.str.contains(\"start\")\n",
    "ch1_start_idx = [i for i,x in enumerate(data.str.contains(\"Ch1:\")) if x]\n",
    "ch2_start_idx = [i for i,x in enumerate(data.str.contains(\"Ch2:\")) if x]\n",
    "print(\"Channel 1 start indexes are:\", ch1_start_idx)\n",
    "print(\"Channel 2 start indexes are:\", ch2_start_idx)"
   ]
  },
  {
   "attachments": {},
   "cell_type": "markdown",
   "metadata": {},
   "source": [
    "Now, I will want to get the ending indexes."
   ]
  },
  {
   "cell_type": "code",
   "execution_count": 47,
   "metadata": {},
   "outputs": [
    {
     "name": "stdout",
     "output_type": "stream",
     "text": [
      "Channel 1 end indexes are: [100004]\n",
      "Channel 2 end indexes are: [200009]\n"
     ]
    }
   ],
   "source": [
    "ch1_end_idx = [i for i,x in enumerate(data.str.contains(\"Ch1 End\")) if x]\n",
    "ch2_end_idx = [i for i,x in enumerate(data.str.contains(\"Ch2 End\")) if x]\n",
    "print(\"Channel 1 end indexes are:\", ch1_end_idx)\n",
    "print(\"Channel 2 end indexes are:\", ch2_end_idx)"
   ]
  },
  {
   "attachments": {},
   "cell_type": "markdown",
   "metadata": {},
   "source": [
    "Now, I want to get the times."
   ]
  },
  {
   "cell_type": "code",
   "execution_count": 48,
   "metadata": {},
   "outputs": [
    {
     "name": "stdout",
     "output_type": "stream",
     "text": [
      "Channel 1 time indexes is: [100005]\n",
      "Channel 2 time indexes is: [200010]\n"
     ]
    }
   ],
   "source": [
    "ch1_time_idx = [i for i,x in enumerate(data.str.contains(\"Channel 1 time\")) if x]\n",
    "ch2_time_idx = [i for i,x in enumerate(data.str.contains(\"Channel 2 time\")) if x]\n",
    "print(\"Channel 1 time indexes is:\", ch1_time_idx)\n",
    "print(\"Channel 2 time indexes is:\", ch2_time_idx)"
   ]
  },
  {
   "attachments": {},
   "cell_type": "markdown",
   "metadata": {},
   "source": [
    "Now I need to slice up my data to remove the timestamp and turn the string formatted number into an int"
   ]
  },
  {
   "cell_type": "code",
   "execution_count": 49,
   "metadata": {},
   "outputs": [
    {
     "data": {
      "text/plain": [
       "int"
      ]
     },
     "execution_count": 49,
     "metadata": {},
     "output_type": "execute_result"
    }
   ],
   "source": [
    "# str(ch1_end_idx)\n",
    "type(ch1_end_idx[0])"
   ]
  },
  {
   "cell_type": "code",
   "execution_count": 50,
   "metadata": {},
   "outputs": [
    {
     "data": {
      "text/plain": [
       "3         4149\n",
       "4         4126\n",
       "5         4150\n",
       "6         4126\n",
       "7         4150\n",
       "          ... \n",
       "99999     4104\n",
       "100000    4098\n",
       "100001    4104\n",
       "100002    4104\n",
       "100003    4105\n",
       "Name: [2023-01-01 10:54:25.805] Ultrasonic Sensor Data Capture Start, Length: 100001, dtype: object"
      ]
     },
     "execution_count": 50,
     "metadata": {},
     "output_type": "execute_result"
    }
   ],
   "source": [
    "str_numbers = data.str[-4:] # this will give just the last few numbers\n",
    "ch1_str_nums = str_numbers.iloc[3:ch1_end_idx[0]] # This is the actual distance numbers\n",
    "ch1_str_nums"
   ]
  },
  {
   "cell_type": "code",
   "execution_count": 51,
   "metadata": {},
   "outputs": [
    {
     "data": {
      "text/plain": [
       "3         4149\n",
       "4         4126\n",
       "5         4150\n",
       "6         4126\n",
       "7         4150\n",
       "          ... \n",
       "99999     4104\n",
       "100000    4098\n",
       "100001    4104\n",
       "100002    4104\n",
       "100003    4105\n",
       "Name: [2023-01-01 10:54:25.805] Ultrasonic Sensor Data Capture Start, Length: 100001, dtype: int64"
      ]
     },
     "execution_count": 51,
     "metadata": {},
     "output_type": "execute_result"
    }
   ],
   "source": [
    "# Converting to int\n",
    "ch1_int_nums = pd.to_numeric(ch1_str_nums, errors='coerce').fillna(0).astype(np.int64)\n",
    "ch1_int_nums\n"
   ]
  },
  {
   "cell_type": "code",
   "execution_count": 52,
   "metadata": {},
   "outputs": [
    {
     "data": {
      "text/plain": [
       "(0.0, 5000.0)"
      ]
     },
     "execution_count": 52,
     "metadata": {},
     "output_type": "execute_result"
    },
    {
     "data": {
      "image/png": "[encoded data removed]",
      "text/plain": [
       "<Figure size 640x480 with 1 Axes>"
      ]
     },
     "metadata": {},
     "output_type": "display_data"
    }
   ],
   "source": [
    "plt.plot(ch1_int_nums)\n",
    "plt.title(\"Obstacle: Closed Door, Grid 1\")\n",
    "plt.xlabel(\"Sample\")\n",
    "plt.ylabel(\"Distance\")\n",
    "plt.ylim(0,5000)"
   ]
  },
  {
   "attachments": {},
   "cell_type": "markdown",
   "metadata": {},
   "source": [
    "Now I will start to look at channel 2"
   ]
  },
  {
   "cell_type": "code",
   "execution_count": 53,
   "metadata": {},
   "outputs": [
    {
     "data": {
      "text/plain": [
       "100008    2571\n",
       "100009    2648\n",
       "100010    2648\n",
       "100011    2648\n",
       "100012    2552\n",
       "          ... \n",
       "200004    2552\n",
       "200005    2654\n",
       "200006    2629\n",
       "200007    2552\n",
       "200008    2647\n",
       "Name: [2023-01-01 10:54:25.805] Ultrasonic Sensor Data Capture Start, Length: 100001, dtype: object"
      ]
     },
     "execution_count": 53,
     "metadata": {},
     "output_type": "execute_result"
    }
   ],
   "source": [
    "ch2_str_nums = str_numbers.iloc[ch2_start_idx[0]+1:ch2_end_idx[0]]\n",
    "ch2_str_nums"
   ]
  },
  {
   "cell_type": "code",
   "execution_count": 54,
   "metadata": {},
   "outputs": [
    {
     "data": {
      "text/plain": [
       "100008    2571\n",
       "100009    2648\n",
       "100010    2648\n",
       "100011    2648\n",
       "100012    2552\n",
       "          ... \n",
       "200004    2552\n",
       "200005    2654\n",
       "200006    2629\n",
       "200007    2552\n",
       "200008    2647\n",
       "Name: [2023-01-01 10:54:25.805] Ultrasonic Sensor Data Capture Start, Length: 100001, dtype: int64"
      ]
     },
     "execution_count": 54,
     "metadata": {},
     "output_type": "execute_result"
    }
   ],
   "source": [
    "# Converting to int\n",
    "ch2_int_nums = pd.to_numeric(ch2_str_nums, errors='coerce').fillna(0).astype(np.int64)\n",
    "ch2_int_nums"
   ]
  },
  {
   "cell_type": "code",
   "execution_count": 55,
   "metadata": {},
   "outputs": [
    {
     "data": {
      "image/png": "[encoded data removed]",
      "text/plain": [
       "<Figure size 640x480 with 1 Axes>"
      ]
     },
     "metadata": {},
     "output_type": "display_data"
    }
   ],
   "source": [
    "plt.plot(ch2_int_nums)\n",
    "plt.title(\"Obstacle: Closed Door, Grid X\")\n",
    "plt.xlabel(\"Sample\")\n",
    "plt.ylabel(\"Distance\")\n",
    "plt.ylim(0,5000) # Max limit used for all plots\n",
    "plt.show()"
   ]
  },
  {
   "cell_type": "code",
   "execution_count": null,
   "metadata": {},
   "outputs": [],
   "source": [
    "out_path = \"D:/Courses/UUJ/Research Project/masters_project/Data Collection/RawDataCollection/Large Narrow Bin Mid-Hallway/processed_data/df.csv\""
   ]
  },
  {
   "cell_type": "code",
   "execution_count": 56,
   "metadata": {},
   "outputs": [],
   "source": [
    "ch1_int_nums_df = pd.DataFrame(ch1_int_nums)\n",
    "ch2_int_nums_df = pd.DataFrame(ch2_int_nums)\n",
    "\n",
    "#ch1_int_nums_df.reset_index(names='Ch1')\n",
    "#ch2_int_nums_df.reset_index(names='Ch2')\n",
    "\n",
    "#ch2_int_nums_df.head()\n",
    "# d = [ch1_int_nums_df,ch2_int_nums_df]\n",
    "# result = pd.concat(d, axis=1)\n",
    "# result"
   ]
  },
  {
   "cell_type": "code",
   "execution_count": 57,
   "metadata": {},
   "outputs": [],
   "source": [
    "d1 = [ch1_int_nums_df.reset_index(), ch2_int_nums_df.reset_index()]\n",
    "result1 = pd.concat(d1, axis=1)"
   ]
  },
  {
   "cell_type": "code",
   "execution_count": 58,
   "metadata": {},
   "outputs": [
    {
     "data": {
      "text/html": [
       "<div>\n",
       "<style scoped>\n",
       "    .dataframe tbody tr th:only-of-type {\n",
       "        vertical-align: middle;\n",
       "    }\n",
       "\n",
       "    .dataframe tbody tr th {\n",
       "        vertical-align: top;\n",
       "    }\n",
       "\n",
       "    .dataframe thead th {\n",
       "        text-align: right;\n",
       "    }\n",
       "</style>\n",
       "<table border=\"1\" class=\"dataframe\">\n",
       "  <thead>\n",
       "    <tr style=\"text-align: right;\">\n",
       "      <th></th>\n",
       "      <th>index</th>\n",
       "      <th>[2023-01-01 10:54:25.805] Ultrasonic Sensor Data Capture Start</th>\n",
       "      <th>index</th>\n",
       "      <th>[2023-01-01 10:54:25.805] Ultrasonic Sensor Data Capture Start</th>\n",
       "    </tr>\n",
       "  </thead>\n",
       "  <tbody>\n",
       "    <tr>\n",
       "      <th>0</th>\n",
       "      <td>3</td>\n",
       "      <td>4149</td>\n",
       "      <td>100008</td>\n",
       "      <td>2571</td>\n",
       "    </tr>\n",
       "    <tr>\n",
       "      <th>1</th>\n",
       "      <td>4</td>\n",
       "      <td>4126</td>\n",
       "      <td>100009</td>\n",
       "      <td>2648</td>\n",
       "    </tr>\n",
       "    <tr>\n",
       "      <th>2</th>\n",
       "      <td>5</td>\n",
       "      <td>4150</td>\n",
       "      <td>100010</td>\n",
       "      <td>2648</td>\n",
       "    </tr>\n",
       "    <tr>\n",
       "      <th>3</th>\n",
       "      <td>6</td>\n",
       "      <td>4126</td>\n",
       "      <td>100011</td>\n",
       "      <td>2648</td>\n",
       "    </tr>\n",
       "    <tr>\n",
       "      <th>4</th>\n",
       "      <td>7</td>\n",
       "      <td>4150</td>\n",
       "      <td>100012</td>\n",
       "      <td>2552</td>\n",
       "    </tr>\n",
       "  </tbody>\n",
       "</table>\n",
       "</div>"
      ],
      "text/plain": [
       "   index  [2023-01-01 10:54:25.805] Ultrasonic Sensor Data Capture Start  \\\n",
       "0      3                                               4149                \n",
       "1      4                                               4126                \n",
       "2      5                                               4150                \n",
       "3      6                                               4126                \n",
       "4      7                                               4150                \n",
       "\n",
       "    index  [2023-01-01 10:54:25.805] Ultrasonic Sensor Data Capture Start  \n",
       "0  100008                                               2571               \n",
       "1  100009                                               2648               \n",
       "2  100010                                               2648               \n",
       "3  100011                                               2648               \n",
       "4  100012                                               2552               "
      ]
     },
     "execution_count": 58,
     "metadata": {},
     "output_type": "execute_result"
    }
   ],
   "source": [
    "result1.head()"
   ]
  },
  {
   "cell_type": "code",
   "execution_count": 59,
   "metadata": {},
   "outputs": [
    {
     "data": {
      "text/html": [
       "<div>\n",
       "<style scoped>\n",
       "    .dataframe tbody tr th:only-of-type {\n",
       "        vertical-align: middle;\n",
       "    }\n",
       "\n",
       "    .dataframe tbody tr th {\n",
       "        vertical-align: top;\n",
       "    }\n",
       "\n",
       "    .dataframe thead th {\n",
       "        text-align: right;\n",
       "    }\n",
       "</style>\n",
       "<table border=\"1\" class=\"dataframe\">\n",
       "  <thead>\n",
       "    <tr style=\"text-align: right;\">\n",
       "      <th></th>\n",
       "      <th>index</th>\n",
       "      <th>[2023-01-01 10:54:25.805] Ultrasonic Sensor Data Capture Start</th>\n",
       "      <th>index</th>\n",
       "      <th>[2023-01-01 10:54:25.805] Ultrasonic Sensor Data Capture Start</th>\n",
       "    </tr>\n",
       "  </thead>\n",
       "  <tbody>\n",
       "    <tr>\n",
       "      <th>count</th>\n",
       "      <td>100001.000000</td>\n",
       "      <td>100001.000000</td>\n",
       "      <td>100001.000000</td>\n",
       "      <td>100001.000000</td>\n",
       "    </tr>\n",
       "    <tr>\n",
       "      <th>mean</th>\n",
       "      <td>50003.000000</td>\n",
       "      <td>4142.463915</td>\n",
       "      <td>150008.000000</td>\n",
       "      <td>2617.790082</td>\n",
       "    </tr>\n",
       "    <tr>\n",
       "      <th>std</th>\n",
       "      <td>28867.946472</td>\n",
       "      <td>21.640257</td>\n",
       "      <td>28867.946472</td>\n",
       "      <td>28.588621</td>\n",
       "    </tr>\n",
       "    <tr>\n",
       "      <th>min</th>\n",
       "      <td>3.000000</td>\n",
       "      <td>4080.000000</td>\n",
       "      <td>100008.000000</td>\n",
       "      <td>2514.000000</td>\n",
       "    </tr>\n",
       "    <tr>\n",
       "      <th>25%</th>\n",
       "      <td>25003.000000</td>\n",
       "      <td>4128.000000</td>\n",
       "      <td>125008.000000</td>\n",
       "      <td>2604.000000</td>\n",
       "    </tr>\n",
       "    <tr>\n",
       "      <th>50%</th>\n",
       "      <td>50003.000000</td>\n",
       "      <td>4130.000000</td>\n",
       "      <td>150008.000000</td>\n",
       "      <td>2623.000000</td>\n",
       "    </tr>\n",
       "    <tr>\n",
       "      <th>75%</th>\n",
       "      <td>75003.000000</td>\n",
       "      <td>4152.000000</td>\n",
       "      <td>175008.000000</td>\n",
       "      <td>2630.000000</td>\n",
       "    </tr>\n",
       "    <tr>\n",
       "      <th>max</th>\n",
       "      <td>100003.000000</td>\n",
       "      <td>4202.000000</td>\n",
       "      <td>200008.000000</td>\n",
       "      <td>2680.000000</td>\n",
       "    </tr>\n",
       "  </tbody>\n",
       "</table>\n",
       "</div>"
      ],
      "text/plain": [
       "               index  \\\n",
       "count  100001.000000   \n",
       "mean    50003.000000   \n",
       "std     28867.946472   \n",
       "min         3.000000   \n",
       "25%     25003.000000   \n",
       "50%     50003.000000   \n",
       "75%     75003.000000   \n",
       "max    100003.000000   \n",
       "\n",
       "       [2023-01-01 10:54:25.805] Ultrasonic Sensor Data Capture Start  \\\n",
       "count                                      100001.000000                \n",
       "mean                                         4142.463915                \n",
       "std                                            21.640257                \n",
       "min                                          4080.000000                \n",
       "25%                                          4128.000000                \n",
       "50%                                          4130.000000                \n",
       "75%                                          4152.000000                \n",
       "max                                          4202.000000                \n",
       "\n",
       "               index  \\\n",
       "count  100001.000000   \n",
       "mean   150008.000000   \n",
       "std     28867.946472   \n",
       "min    100008.000000   \n",
       "25%    125008.000000   \n",
       "50%    150008.000000   \n",
       "75%    175008.000000   \n",
       "max    200008.000000   \n",
       "\n",
       "       [2023-01-01 10:54:25.805] Ultrasonic Sensor Data Capture Start  \n",
       "count                                      100001.000000               \n",
       "mean                                         2617.790082               \n",
       "std                                            28.588621               \n",
       "min                                          2514.000000               \n",
       "25%                                          2604.000000               \n",
       "50%                                          2623.000000               \n",
       "75%                                          2630.000000               \n",
       "max                                          2680.000000               "
      ]
     },
     "execution_count": 59,
     "metadata": {},
     "output_type": "execute_result"
    }
   ],
   "source": [
    "result1.describe()"
   ]
  },
  {
   "cell_type": "code",
   "execution_count": null,
   "metadata": {},
   "outputs": [],
   "source": [
    "ch2_int_nums_df.to_csv(out_path,index=False)"
   ]
  },
  {
   "cell_type": "code",
   "execution_count": null,
   "metadata": {},
   "outputs": [],
   "source": [
    "result1.to_csv(out_path, index=False)"
   ]
  },
  {
   "cell_type": "code",
   "execution_count": null,
   "metadata": {},
   "outputs": [],
   "source": [
    "result1"
   ]
  }
 ],
 "metadata": {
  "kernelspec": {
   "display_name": "Python 3",
   "language": "python",
   "name": "python3"
  },
  "language_info": {
   "codemirror_mode": {
    "name": "ipython",
    "version": 3
   },
   "file_extension": ".py",
   "mimetype": "text/x-python",
   "name": "python",
   "nbconvert_exporter": "python",
   "pygments_lexer": "ipython3",
   "version": "3.10.8 (tags/v3.10.8:aaaf517, Oct 11 2022, 16:50:30) [MSC v.1933 64 bit (AMD64)]"
  },
  "orig_nbformat": 4,
  "vscode": {
   "interpreter": {
    "hash": "972f31df2f829f8f22ae559c9a74ed7932f6766b96fa316c77413751dedc7f05"
   }
  }
 },
 "nbformat": 4,
 "nbformat_minor": 2
}
